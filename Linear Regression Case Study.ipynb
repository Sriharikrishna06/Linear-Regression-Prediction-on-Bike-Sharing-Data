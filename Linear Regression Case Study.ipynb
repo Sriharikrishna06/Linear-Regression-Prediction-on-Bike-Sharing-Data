{
 "cells": [
  {
   "cell_type": "code",
   "execution_count": 1077,
   "metadata": {},
   "outputs": [],
   "source": [
    "import pandas as pd\n",
    "import numpy as np\n",
    "\n",
    "import matplotlib.pyplot as plt\n",
    "import seaborn as sns\n",
    "\n",
    "import statsmodels.api as sm\n",
    "from sklearn.model_selection import train_test_split\n",
    "from statsmodels.stats.outliers_influence import variance_inflation_factor\n",
    "from sklearn.feature_selection import RFE\n",
    "from sklearn.linear_model import LinearRegression\n",
    "from sklearn.metrics import r2_score, mean_squared_error\n",
    "\n",
    "import warnings\n",
    "warnings.filterwarnings('ignore')"
   ]
  },
  {
   "cell_type": "code",
   "execution_count": 1078,
   "metadata": {},
   "outputs": [
    {
     "data": {
      "text/html": [
       "<div>\n",
       "<style scoped>\n",
       "    .dataframe tbody tr th:only-of-type {\n",
       "        vertical-align: middle;\n",
       "    }\n",
       "\n",
       "    .dataframe tbody tr th {\n",
       "        vertical-align: top;\n",
       "    }\n",
       "\n",
       "    .dataframe thead th {\n",
       "        text-align: right;\n",
       "    }\n",
       "</style>\n",
       "<table border=\"1\" class=\"dataframe\">\n",
       "  <thead>\n",
       "    <tr style=\"text-align: right;\">\n",
       "      <th></th>\n",
       "      <th>instant</th>\n",
       "      <th>dteday</th>\n",
       "      <th>season</th>\n",
       "      <th>yr</th>\n",
       "      <th>mnth</th>\n",
       "      <th>holiday</th>\n",
       "      <th>weekday</th>\n",
       "      <th>workingday</th>\n",
       "      <th>weathersit</th>\n",
       "      <th>temp</th>\n",
       "      <th>atemp</th>\n",
       "      <th>hum</th>\n",
       "      <th>windspeed</th>\n",
       "      <th>casual</th>\n",
       "      <th>registered</th>\n",
       "      <th>cnt</th>\n",
       "    </tr>\n",
       "  </thead>\n",
       "  <tbody>\n",
       "    <tr>\n",
       "      <th>0</th>\n",
       "      <td>1</td>\n",
       "      <td>01-01-2018</td>\n",
       "      <td>1</td>\n",
       "      <td>0</td>\n",
       "      <td>1</td>\n",
       "      <td>0</td>\n",
       "      <td>1</td>\n",
       "      <td>1</td>\n",
       "      <td>2</td>\n",
       "      <td>14.110847</td>\n",
       "      <td>18.18125</td>\n",
       "      <td>80.5833</td>\n",
       "      <td>10.749882</td>\n",
       "      <td>331</td>\n",
       "      <td>654</td>\n",
       "      <td>985</td>\n",
       "    </tr>\n",
       "    <tr>\n",
       "      <th>1</th>\n",
       "      <td>2</td>\n",
       "      <td>02-01-2018</td>\n",
       "      <td>1</td>\n",
       "      <td>0</td>\n",
       "      <td>1</td>\n",
       "      <td>0</td>\n",
       "      <td>2</td>\n",
       "      <td>1</td>\n",
       "      <td>2</td>\n",
       "      <td>14.902598</td>\n",
       "      <td>17.68695</td>\n",
       "      <td>69.6087</td>\n",
       "      <td>16.652113</td>\n",
       "      <td>131</td>\n",
       "      <td>670</td>\n",
       "      <td>801</td>\n",
       "    </tr>\n",
       "    <tr>\n",
       "      <th>2</th>\n",
       "      <td>3</td>\n",
       "      <td>03-01-2018</td>\n",
       "      <td>1</td>\n",
       "      <td>0</td>\n",
       "      <td>1</td>\n",
       "      <td>0</td>\n",
       "      <td>3</td>\n",
       "      <td>1</td>\n",
       "      <td>1</td>\n",
       "      <td>8.050924</td>\n",
       "      <td>9.47025</td>\n",
       "      <td>43.7273</td>\n",
       "      <td>16.636703</td>\n",
       "      <td>120</td>\n",
       "      <td>1229</td>\n",
       "      <td>1349</td>\n",
       "    </tr>\n",
       "    <tr>\n",
       "      <th>3</th>\n",
       "      <td>4</td>\n",
       "      <td>04-01-2018</td>\n",
       "      <td>1</td>\n",
       "      <td>0</td>\n",
       "      <td>1</td>\n",
       "      <td>0</td>\n",
       "      <td>4</td>\n",
       "      <td>1</td>\n",
       "      <td>1</td>\n",
       "      <td>8.200000</td>\n",
       "      <td>10.60610</td>\n",
       "      <td>59.0435</td>\n",
       "      <td>10.739832</td>\n",
       "      <td>108</td>\n",
       "      <td>1454</td>\n",
       "      <td>1562</td>\n",
       "    </tr>\n",
       "    <tr>\n",
       "      <th>4</th>\n",
       "      <td>5</td>\n",
       "      <td>05-01-2018</td>\n",
       "      <td>1</td>\n",
       "      <td>0</td>\n",
       "      <td>1</td>\n",
       "      <td>0</td>\n",
       "      <td>5</td>\n",
       "      <td>1</td>\n",
       "      <td>1</td>\n",
       "      <td>9.305237</td>\n",
       "      <td>11.46350</td>\n",
       "      <td>43.6957</td>\n",
       "      <td>12.522300</td>\n",
       "      <td>82</td>\n",
       "      <td>1518</td>\n",
       "      <td>1600</td>\n",
       "    </tr>\n",
       "  </tbody>\n",
       "</table>\n",
       "</div>"
      ],
      "text/plain": [
       "   instant      dteday  season  yr  mnth  holiday  weekday  workingday  \\\n",
       "0        1  01-01-2018       1   0     1        0        1           1   \n",
       "1        2  02-01-2018       1   0     1        0        2           1   \n",
       "2        3  03-01-2018       1   0     1        0        3           1   \n",
       "3        4  04-01-2018       1   0     1        0        4           1   \n",
       "4        5  05-01-2018       1   0     1        0        5           1   \n",
       "\n",
       "   weathersit       temp     atemp      hum  windspeed  casual  registered  \\\n",
       "0           2  14.110847  18.18125  80.5833  10.749882     331         654   \n",
       "1           2  14.902598  17.68695  69.6087  16.652113     131         670   \n",
       "2           1   8.050924   9.47025  43.7273  16.636703     120        1229   \n",
       "3           1   8.200000  10.60610  59.0435  10.739832     108        1454   \n",
       "4           1   9.305237  11.46350  43.6957  12.522300      82        1518   \n",
       "\n",
       "    cnt  \n",
       "0   985  \n",
       "1   801  \n",
       "2  1349  \n",
       "3  1562  \n",
       "4  1600  "
      ]
     },
     "execution_count": 1078,
     "metadata": {},
     "output_type": "execute_result"
    }
   ],
   "source": [
    "df = pd.read_csv('day.csv')\n",
    "tp = df.copy()\n",
    "df.head()"
   ]
  },
  {
   "cell_type": "code",
   "execution_count": 1079,
   "metadata": {},
   "outputs": [
    {
     "data": {
      "text/plain": [
       "(730, 16)"
      ]
     },
     "execution_count": 1079,
     "metadata": {},
     "output_type": "execute_result"
    }
   ],
   "source": [
    "df.shape"
   ]
  },
  {
   "cell_type": "code",
   "execution_count": 1080,
   "metadata": {},
   "outputs": [],
   "source": [
    "#these variables are of less use in terms of EDA and model building\n",
    "del df['dteday']\n",
    "del df['instant']"
   ]
  },
  {
   "cell_type": "markdown",
   "metadata": {},
   "source": [
    "## EDA"
   ]
  },
  {
   "cell_type": "code",
   "execution_count": 1081,
   "metadata": {},
   "outputs": [
    {
     "name": "stdout",
     "output_type": "stream",
     "text": [
      "<class 'pandas.core.frame.DataFrame'>\n",
      "RangeIndex: 730 entries, 0 to 729\n",
      "Data columns (total 14 columns):\n",
      " #   Column      Non-Null Count  Dtype  \n",
      "---  ------      --------------  -----  \n",
      " 0   season      730 non-null    int64  \n",
      " 1   yr          730 non-null    int64  \n",
      " 2   mnth        730 non-null    int64  \n",
      " 3   holiday     730 non-null    int64  \n",
      " 4   weekday     730 non-null    int64  \n",
      " 5   workingday  730 non-null    int64  \n",
      " 6   weathersit  730 non-null    int64  \n",
      " 7   temp        730 non-null    float64\n",
      " 8   atemp       730 non-null    float64\n",
      " 9   hum         730 non-null    float64\n",
      " 10  windspeed   730 non-null    float64\n",
      " 11  casual      730 non-null    int64  \n",
      " 12  registered  730 non-null    int64  \n",
      " 13  cnt         730 non-null    int64  \n",
      "dtypes: float64(4), int64(10)\n",
      "memory usage: 80.0 KB\n"
     ]
    }
   ],
   "source": [
    "df.info()"
   ]
  },
  {
   "cell_type": "markdown",
   "metadata": {},
   "source": [
    "There seems to be no null values in the dataset, so we can proceed with Data analysis"
   ]
  },
  {
   "cell_type": "code",
   "execution_count": 1082,
   "metadata": {},
   "outputs": [
    {
     "data": {
      "text/html": [
       "<div>\n",
       "<style scoped>\n",
       "    .dataframe tbody tr th:only-of-type {\n",
       "        vertical-align: middle;\n",
       "    }\n",
       "\n",
       "    .dataframe tbody tr th {\n",
       "        vertical-align: top;\n",
       "    }\n",
       "\n",
       "    .dataframe thead th {\n",
       "        text-align: right;\n",
       "    }\n",
       "</style>\n",
       "<table border=\"1\" class=\"dataframe\">\n",
       "  <thead>\n",
       "    <tr style=\"text-align: right;\">\n",
       "      <th></th>\n",
       "      <th>season</th>\n",
       "      <th>yr</th>\n",
       "      <th>mnth</th>\n",
       "      <th>holiday</th>\n",
       "      <th>weekday</th>\n",
       "      <th>workingday</th>\n",
       "      <th>weathersit</th>\n",
       "      <th>temp</th>\n",
       "      <th>atemp</th>\n",
       "      <th>hum</th>\n",
       "      <th>windspeed</th>\n",
       "      <th>casual</th>\n",
       "      <th>registered</th>\n",
       "      <th>cnt</th>\n",
       "    </tr>\n",
       "  </thead>\n",
       "  <tbody>\n",
       "    <tr>\n",
       "      <th>0</th>\n",
       "      <td>spring</td>\n",
       "      <td>0</td>\n",
       "      <td>Jan</td>\n",
       "      <td>0</td>\n",
       "      <td>Monday</td>\n",
       "      <td>1</td>\n",
       "      <td>weathersit 2</td>\n",
       "      <td>14.110847</td>\n",
       "      <td>18.18125</td>\n",
       "      <td>80.5833</td>\n",
       "      <td>10.749882</td>\n",
       "      <td>331</td>\n",
       "      <td>654</td>\n",
       "      <td>985</td>\n",
       "    </tr>\n",
       "    <tr>\n",
       "      <th>1</th>\n",
       "      <td>spring</td>\n",
       "      <td>0</td>\n",
       "      <td>Jan</td>\n",
       "      <td>0</td>\n",
       "      <td>Tuesday</td>\n",
       "      <td>1</td>\n",
       "      <td>weathersit 2</td>\n",
       "      <td>14.902598</td>\n",
       "      <td>17.68695</td>\n",
       "      <td>69.6087</td>\n",
       "      <td>16.652113</td>\n",
       "      <td>131</td>\n",
       "      <td>670</td>\n",
       "      <td>801</td>\n",
       "    </tr>\n",
       "    <tr>\n",
       "      <th>2</th>\n",
       "      <td>spring</td>\n",
       "      <td>0</td>\n",
       "      <td>Jan</td>\n",
       "      <td>0</td>\n",
       "      <td>Wednesday</td>\n",
       "      <td>1</td>\n",
       "      <td>weathersit 1</td>\n",
       "      <td>8.050924</td>\n",
       "      <td>9.47025</td>\n",
       "      <td>43.7273</td>\n",
       "      <td>16.636703</td>\n",
       "      <td>120</td>\n",
       "      <td>1229</td>\n",
       "      <td>1349</td>\n",
       "    </tr>\n",
       "    <tr>\n",
       "      <th>3</th>\n",
       "      <td>spring</td>\n",
       "      <td>0</td>\n",
       "      <td>Jan</td>\n",
       "      <td>0</td>\n",
       "      <td>Thursday</td>\n",
       "      <td>1</td>\n",
       "      <td>weathersit 1</td>\n",
       "      <td>8.200000</td>\n",
       "      <td>10.60610</td>\n",
       "      <td>59.0435</td>\n",
       "      <td>10.739832</td>\n",
       "      <td>108</td>\n",
       "      <td>1454</td>\n",
       "      <td>1562</td>\n",
       "    </tr>\n",
       "    <tr>\n",
       "      <th>4</th>\n",
       "      <td>spring</td>\n",
       "      <td>0</td>\n",
       "      <td>Jan</td>\n",
       "      <td>0</td>\n",
       "      <td>Friday</td>\n",
       "      <td>1</td>\n",
       "      <td>weathersit 1</td>\n",
       "      <td>9.305237</td>\n",
       "      <td>11.46350</td>\n",
       "      <td>43.6957</td>\n",
       "      <td>12.522300</td>\n",
       "      <td>82</td>\n",
       "      <td>1518</td>\n",
       "      <td>1600</td>\n",
       "    </tr>\n",
       "  </tbody>\n",
       "</table>\n",
       "</div>"
      ],
      "text/plain": [
       "   season  yr mnth  holiday    weekday  workingday    weathersit       temp  \\\n",
       "0  spring   0  Jan        0     Monday           1  weathersit 2  14.110847   \n",
       "1  spring   0  Jan        0    Tuesday           1  weathersit 2  14.902598   \n",
       "2  spring   0  Jan        0  Wednesday           1  weathersit 1   8.050924   \n",
       "3  spring   0  Jan        0   Thursday           1  weathersit 1   8.200000   \n",
       "4  spring   0  Jan        0     Friday           1  weathersit 1   9.305237   \n",
       "\n",
       "      atemp      hum  windspeed  casual  registered   cnt  \n",
       "0  18.18125  80.5833  10.749882     331         654   985  \n",
       "1  17.68695  69.6087  16.652113     131         670   801  \n",
       "2   9.47025  43.7273  16.636703     120        1229  1349  \n",
       "3  10.60610  59.0435  10.739832     108        1454  1562  \n",
       "4  11.46350  43.6957  12.522300      82        1518  1600  "
      ]
     },
     "execution_count": 1082,
     "metadata": {},
     "output_type": "execute_result"
    }
   ],
   "source": [
    "#categorical variables are converted from integers to strings\n",
    "df.mnth = df.mnth.map({1:'Jan', 2:'Feb', 3:'March', 4:'April', 5:'May', 6:'June',\n",
    "            7:'July', 8:'Aug', 9:'Sept', 10:'Oct', 11:'Nov', 12:'Dec'})\n",
    "df.weekday = df.weekday.map({1:'Monday', 2:'Tuesday', 3:'Wednesday', 4:'Thursday', 5:'Friday', 6:'Saturday', 0:'Sunday'})\n",
    "df.season = df.season.map({1:'spring', 2:'summer', 3:'fall', 4:'winter'})\n",
    "df.weathersit = df.weathersit.map({1:'weathersit 1', 2:'weathersit 2', 3:'weathersit 3', 4:'weathersit 4'})\n",
    "df.head()"
   ]
  },
  {
   "cell_type": "code",
   "execution_count": 1083,
   "metadata": {},
   "outputs": [
    {
     "data": {
      "image/png": "[encoded data removed]",
      "text/plain": [
       "<Figure size 1080x720 with 5 Axes>"
      ]
     },
     "metadata": {
      "needs_background": "light"
     },
     "output_type": "display_data"
    }
   ],
   "source": [
    "#ploting boxplot of categorical variables against target variable cnt\n",
    "categorical_vars = ['season', 'yr', 'holiday', 'workingday', 'weathersit']\n",
    "plt.figure(figsize=(15,10))\n",
    "for i in range(1,len(categorical_vars) + 1):\n",
    "    plt.subplot(3,3,i)\n",
    "    sns.boxplot(data= df, x=categorical_vars[i-1], y='cnt')"
   ]
  },
  {
   "cell_type": "markdown",
   "metadata": {},
   "source": [
    "Inferences:\n",
    "- People generally doesnt prefer spring for bikes\n",
    "- We see wide range of people using bikes during normal days i.e., people don't prefer renting bikes during holidays\n",
    "- There is similar range of people renting bikes irrespective of working or non working day\n",
    "- People prefer clear sky when renting bikes (weathersit 1 and 2) compared to even light rain (weathersit 3)"
   ]
  },
  {
   "cell_type": "code",
   "execution_count": 1084,
   "metadata": {},
   "outputs": [
    {
     "data": {
      "text/plain": [
       "<AxesSubplot:xlabel='mnth', ylabel='cnt'>"
      ]
     },
     "execution_count": 1084,
     "metadata": {},
     "output_type": "execute_result"
    },
    {
     "data": {
      "image/png": "[encoded data removed]",
      "text/plain": [
       "<Figure size 1224x504 with 1 Axes>"
      ]
     },
     "metadata": {
      "needs_background": "light"
     },
     "output_type": "display_data"
    }
   ],
   "source": [
    "#segmented boxplot of month variable and target variable cnt segmented by the day of the week\n",
    "plt.figure(figsize=(17,7))\n",
    "sns.boxplot(data=df, x='mnth', y='cnt', hue='weekday')"
   ]
  },
  {
   "cell_type": "markdown",
   "metadata": {},
   "source": [
    "Inferences:\n",
    "- There is a general spike of rentals during the months April to September\n",
    "- There is wide range of people prefering bikes during the weekends from April to September, they might rent bikes to exercise\n",
    "- There is very less bike rentals during January and Feburary since the weather might be cold or even snowing which is not ideal for riding bikes\n",
    "- From the month November to Feburary, bike rentals counts is low on weekends almost similar to weekdays, where the weather might be the reason"
   ]
  },
  {
   "cell_type": "code",
   "execution_count": 1085,
   "metadata": {},
   "outputs": [
    {
     "data": {
      "text/plain": [
       "<AxesSubplot:>"
      ]
     },
     "execution_count": 1085,
     "metadata": {},
     "output_type": "execute_result"
    },
    {
     "data": {
      "image/png": "[encoded data removed]",
      "text/plain": [
       "<Figure size 576x360 with 2 Axes>"
      ]
     },
     "metadata": {
      "needs_background": "light"
     },
     "output_type": "display_data"
    }
   ],
   "source": [
    "#heatmap of numerical variables to find colinearity among themselves\n",
    "plt.figure(figsize=(8,5))\n",
    "sns.heatmap(df[['temp', 'atemp', 'hum', 'windspeed', 'casual','registered', 'cnt']].corr(), annot= True)"
   ]
  },
  {
   "cell_type": "markdown",
   "metadata": {},
   "source": [
    "- We see very high positive correlation between **temp** and **atemp**, so removing any one of them is important\n",
    "- **Casual** and **Registered** equally contribute to the target variabele, so removing both is necessary"
   ]
  },
  {
   "cell_type": "code",
   "execution_count": 1086,
   "metadata": {},
   "outputs": [
    {
     "data": {
      "text/html": [
       "<div>\n",
       "<style scoped>\n",
       "    .dataframe tbody tr th:only-of-type {\n",
       "        vertical-align: middle;\n",
       "    }\n",
       "\n",
       "    .dataframe tbody tr th {\n",
       "        vertical-align: top;\n",
       "    }\n",
       "\n",
       "    .dataframe thead th {\n",
       "        text-align: right;\n",
       "    }\n",
       "</style>\n",
       "<table border=\"1\" class=\"dataframe\">\n",
       "  <thead>\n",
       "    <tr style=\"text-align: right;\">\n",
       "      <th></th>\n",
       "      <th>season</th>\n",
       "      <th>yr</th>\n",
       "      <th>mnth</th>\n",
       "      <th>holiday</th>\n",
       "      <th>weekday</th>\n",
       "      <th>workingday</th>\n",
       "      <th>weathersit</th>\n",
       "      <th>temp</th>\n",
       "      <th>hum</th>\n",
       "      <th>windspeed</th>\n",
       "      <th>cnt</th>\n",
       "    </tr>\n",
       "  </thead>\n",
       "  <tbody>\n",
       "    <tr>\n",
       "      <th>0</th>\n",
       "      <td>spring</td>\n",
       "      <td>0</td>\n",
       "      <td>Jan</td>\n",
       "      <td>0</td>\n",
       "      <td>Monday</td>\n",
       "      <td>1</td>\n",
       "      <td>weathersit 2</td>\n",
       "      <td>14.110847</td>\n",
       "      <td>80.5833</td>\n",
       "      <td>10.749882</td>\n",
       "      <td>985</td>\n",
       "    </tr>\n",
       "    <tr>\n",
       "      <th>1</th>\n",
       "      <td>spring</td>\n",
       "      <td>0</td>\n",
       "      <td>Jan</td>\n",
       "      <td>0</td>\n",
       "      <td>Tuesday</td>\n",
       "      <td>1</td>\n",
       "      <td>weathersit 2</td>\n",
       "      <td>14.902598</td>\n",
       "      <td>69.6087</td>\n",
       "      <td>16.652113</td>\n",
       "      <td>801</td>\n",
       "    </tr>\n",
       "    <tr>\n",
       "      <th>2</th>\n",
       "      <td>spring</td>\n",
       "      <td>0</td>\n",
       "      <td>Jan</td>\n",
       "      <td>0</td>\n",
       "      <td>Wednesday</td>\n",
       "      <td>1</td>\n",
       "      <td>weathersit 1</td>\n",
       "      <td>8.050924</td>\n",
       "      <td>43.7273</td>\n",
       "      <td>16.636703</td>\n",
       "      <td>1349</td>\n",
       "    </tr>\n",
       "    <tr>\n",
       "      <th>3</th>\n",
       "      <td>spring</td>\n",
       "      <td>0</td>\n",
       "      <td>Jan</td>\n",
       "      <td>0</td>\n",
       "      <td>Thursday</td>\n",
       "      <td>1</td>\n",
       "      <td>weathersit 1</td>\n",
       "      <td>8.200000</td>\n",
       "      <td>59.0435</td>\n",
       "      <td>10.739832</td>\n",
       "      <td>1562</td>\n",
       "    </tr>\n",
       "    <tr>\n",
       "      <th>4</th>\n",
       "      <td>spring</td>\n",
       "      <td>0</td>\n",
       "      <td>Jan</td>\n",
       "      <td>0</td>\n",
       "      <td>Friday</td>\n",
       "      <td>1</td>\n",
       "      <td>weathersit 1</td>\n",
       "      <td>9.305237</td>\n",
       "      <td>43.6957</td>\n",
       "      <td>12.522300</td>\n",
       "      <td>1600</td>\n",
       "    </tr>\n",
       "  </tbody>\n",
       "</table>\n",
       "</div>"
      ],
      "text/plain": [
       "   season  yr mnth  holiday    weekday  workingday    weathersit       temp  \\\n",
       "0  spring   0  Jan        0     Monday           1  weathersit 2  14.110847   \n",
       "1  spring   0  Jan        0    Tuesday           1  weathersit 2  14.902598   \n",
       "2  spring   0  Jan        0  Wednesday           1  weathersit 1   8.050924   \n",
       "3  spring   0  Jan        0   Thursday           1  weathersit 1   8.200000   \n",
       "4  spring   0  Jan        0     Friday           1  weathersit 1   9.305237   \n",
       "\n",
       "       hum  windspeed   cnt  \n",
       "0  80.5833  10.749882   985  \n",
       "1  69.6087  16.652113   801  \n",
       "2  43.7273  16.636703  1349  \n",
       "3  59.0435  10.739832  1562  \n",
       "4  43.6957  12.522300  1600  "
      ]
     },
     "execution_count": 1086,
     "metadata": {},
     "output_type": "execute_result"
    }
   ],
   "source": [
    "#dropping the variables from the dataset since they are highly colinear wiht others\n",
    "df.drop(['atemp', 'casual', 'registered'], axis= 1, inplace= True)\n",
    "df.head()"
   ]
  },
  {
   "cell_type": "markdown",
   "metadata": {},
   "source": [
    "### Data Preparation"
   ]
  },
  {
   "cell_type": "code",
   "execution_count": 1087,
   "metadata": {},
   "outputs": [
    {
     "data": {
      "text/html": [
       "<div>\n",
       "<style scoped>\n",
       "    .dataframe tbody tr th:only-of-type {\n",
       "        vertical-align: middle;\n",
       "    }\n",
       "\n",
       "    .dataframe tbody tr th {\n",
       "        vertical-align: top;\n",
       "    }\n",
       "\n",
       "    .dataframe thead th {\n",
       "        text-align: right;\n",
       "    }\n",
       "</style>\n",
       "<table border=\"1\" class=\"dataframe\">\n",
       "  <thead>\n",
       "    <tr style=\"text-align: right;\">\n",
       "      <th></th>\n",
       "      <th>season_spring</th>\n",
       "      <th>season_summer</th>\n",
       "      <th>season_winter</th>\n",
       "      <th>mnth_Aug</th>\n",
       "      <th>mnth_Dec</th>\n",
       "      <th>mnth_Feb</th>\n",
       "      <th>mnth_Jan</th>\n",
       "      <th>mnth_July</th>\n",
       "      <th>mnth_June</th>\n",
       "      <th>mnth_March</th>\n",
       "      <th>...</th>\n",
       "      <th>mnth_Oct</th>\n",
       "      <th>mnth_Sept</th>\n",
       "      <th>weekday_Monday</th>\n",
       "      <th>weekday_Saturday</th>\n",
       "      <th>weekday_Sunday</th>\n",
       "      <th>weekday_Thursday</th>\n",
       "      <th>weekday_Tuesday</th>\n",
       "      <th>weekday_Wednesday</th>\n",
       "      <th>weathersit_weathersit 2</th>\n",
       "      <th>weathersit_weathersit 3</th>\n",
       "    </tr>\n",
       "  </thead>\n",
       "  <tbody>\n",
       "    <tr>\n",
       "      <th>0</th>\n",
       "      <td>1</td>\n",
       "      <td>0</td>\n",
       "      <td>0</td>\n",
       "      <td>0</td>\n",
       "      <td>0</td>\n",
       "      <td>0</td>\n",
       "      <td>1</td>\n",
       "      <td>0</td>\n",
       "      <td>0</td>\n",
       "      <td>0</td>\n",
       "      <td>...</td>\n",
       "      <td>0</td>\n",
       "      <td>0</td>\n",
       "      <td>1</td>\n",
       "      <td>0</td>\n",
       "      <td>0</td>\n",
       "      <td>0</td>\n",
       "      <td>0</td>\n",
       "      <td>0</td>\n",
       "      <td>1</td>\n",
       "      <td>0</td>\n",
       "    </tr>\n",
       "    <tr>\n",
       "      <th>1</th>\n",
       "      <td>1</td>\n",
       "      <td>0</td>\n",
       "      <td>0</td>\n",
       "      <td>0</td>\n",
       "      <td>0</td>\n",
       "      <td>0</td>\n",
       "      <td>1</td>\n",
       "      <td>0</td>\n",
       "      <td>0</td>\n",
       "      <td>0</td>\n",
       "      <td>...</td>\n",
       "      <td>0</td>\n",
       "      <td>0</td>\n",
       "      <td>0</td>\n",
       "      <td>0</td>\n",
       "      <td>0</td>\n",
       "      <td>0</td>\n",
       "      <td>1</td>\n",
       "      <td>0</td>\n",
       "      <td>1</td>\n",
       "      <td>0</td>\n",
       "    </tr>\n",
       "    <tr>\n",
       "      <th>2</th>\n",
       "      <td>1</td>\n",
       "      <td>0</td>\n",
       "      <td>0</td>\n",
       "      <td>0</td>\n",
       "      <td>0</td>\n",
       "      <td>0</td>\n",
       "      <td>1</td>\n",
       "      <td>0</td>\n",
       "      <td>0</td>\n",
       "      <td>0</td>\n",
       "      <td>...</td>\n",
       "      <td>0</td>\n",
       "      <td>0</td>\n",
       "      <td>0</td>\n",
       "      <td>0</td>\n",
       "      <td>0</td>\n",
       "      <td>0</td>\n",
       "      <td>0</td>\n",
       "      <td>1</td>\n",
       "      <td>0</td>\n",
       "      <td>0</td>\n",
       "    </tr>\n",
       "    <tr>\n",
       "      <th>3</th>\n",
       "      <td>1</td>\n",
       "      <td>0</td>\n",
       "      <td>0</td>\n",
       "      <td>0</td>\n",
       "      <td>0</td>\n",
       "      <td>0</td>\n",
       "      <td>1</td>\n",
       "      <td>0</td>\n",
       "      <td>0</td>\n",
       "      <td>0</td>\n",
       "      <td>...</td>\n",
       "      <td>0</td>\n",
       "      <td>0</td>\n",
       "      <td>0</td>\n",
       "      <td>0</td>\n",
       "      <td>0</td>\n",
       "      <td>1</td>\n",
       "      <td>0</td>\n",
       "      <td>0</td>\n",
       "      <td>0</td>\n",
       "      <td>0</td>\n",
       "    </tr>\n",
       "    <tr>\n",
       "      <th>4</th>\n",
       "      <td>1</td>\n",
       "      <td>0</td>\n",
       "      <td>0</td>\n",
       "      <td>0</td>\n",
       "      <td>0</td>\n",
       "      <td>0</td>\n",
       "      <td>1</td>\n",
       "      <td>0</td>\n",
       "      <td>0</td>\n",
       "      <td>0</td>\n",
       "      <td>...</td>\n",
       "      <td>0</td>\n",
       "      <td>0</td>\n",
       "      <td>0</td>\n",
       "      <td>0</td>\n",
       "      <td>0</td>\n",
       "      <td>0</td>\n",
       "      <td>0</td>\n",
       "      <td>0</td>\n",
       "      <td>0</td>\n",
       "      <td>0</td>\n",
       "    </tr>\n",
       "  </tbody>\n",
       "</table>\n",
       "<p>5 rows × 22 columns</p>\n",
       "</div>"
      ],
      "text/plain": [
       "   season_spring  season_summer  season_winter  mnth_Aug  mnth_Dec  mnth_Feb  \\\n",
       "0              1              0              0         0         0         0   \n",
       "1              1              0              0         0         0         0   \n",
       "2              1              0              0         0         0         0   \n",
       "3              1              0              0         0         0         0   \n",
       "4              1              0              0         0         0         0   \n",
       "\n",
       "   mnth_Jan  mnth_July  mnth_June  mnth_March  ...  mnth_Oct  mnth_Sept  \\\n",
       "0         1          0          0           0  ...         0          0   \n",
       "1         1          0          0           0  ...         0          0   \n",
       "2         1          0          0           0  ...         0          0   \n",
       "3         1          0          0           0  ...         0          0   \n",
       "4         1          0          0           0  ...         0          0   \n",
       "\n",
       "   weekday_Monday  weekday_Saturday  weekday_Sunday  weekday_Thursday  \\\n",
       "0               1                 0               0                 0   \n",
       "1               0                 0               0                 0   \n",
       "2               0                 0               0                 0   \n",
       "3               0                 0               0                 1   \n",
       "4               0                 0               0                 0   \n",
       "\n",
       "   weekday_Tuesday  weekday_Wednesday  weathersit_weathersit 2  \\\n",
       "0                0                  0                        1   \n",
       "1                1                  0                        1   \n",
       "2                0                  1                        0   \n",
       "3                0                  0                        0   \n",
       "4                0                  0                        0   \n",
       "\n",
       "   weathersit_weathersit 3  \n",
       "0                        0  \n",
       "1                        0  \n",
       "2                        0  \n",
       "3                        0  \n",
       "4                        0  \n",
       "\n",
       "[5 rows x 22 columns]"
      ]
     },
     "execution_count": 1087,
     "metadata": {},
     "output_type": "execute_result"
    }
   ],
   "source": [
    "#creating dummy variables for categorical variables have more than two categories in single column\n",
    "dummies = pd.get_dummies(df[['season', 'mnth', 'weekday', 'weathersit']], drop_first= True)\n",
    "dummies.head()"
   ]
  },
  {
   "cell_type": "code",
   "execution_count": 1088,
   "metadata": {},
   "outputs": [
    {
     "data": {
      "text/html": [
       "<div>\n",
       "<style scoped>\n",
       "    .dataframe tbody tr th:only-of-type {\n",
       "        vertical-align: middle;\n",
       "    }\n",
       "\n",
       "    .dataframe tbody tr th {\n",
       "        vertical-align: top;\n",
       "    }\n",
       "\n",
       "    .dataframe thead th {\n",
       "        text-align: right;\n",
       "    }\n",
       "</style>\n",
       "<table border=\"1\" class=\"dataframe\">\n",
       "  <thead>\n",
       "    <tr style=\"text-align: right;\">\n",
       "      <th></th>\n",
       "      <th>yr</th>\n",
       "      <th>holiday</th>\n",
       "      <th>workingday</th>\n",
       "      <th>temp</th>\n",
       "      <th>hum</th>\n",
       "      <th>windspeed</th>\n",
       "      <th>cnt</th>\n",
       "      <th>season_spring</th>\n",
       "      <th>season_summer</th>\n",
       "      <th>season_winter</th>\n",
       "      <th>...</th>\n",
       "      <th>mnth_Oct</th>\n",
       "      <th>mnth_Sept</th>\n",
       "      <th>weekday_Monday</th>\n",
       "      <th>weekday_Saturday</th>\n",
       "      <th>weekday_Sunday</th>\n",
       "      <th>weekday_Thursday</th>\n",
       "      <th>weekday_Tuesday</th>\n",
       "      <th>weekday_Wednesday</th>\n",
       "      <th>weathersit_weathersit 2</th>\n",
       "      <th>weathersit_weathersit 3</th>\n",
       "    </tr>\n",
       "  </thead>\n",
       "  <tbody>\n",
       "    <tr>\n",
       "      <th>0</th>\n",
       "      <td>0</td>\n",
       "      <td>0</td>\n",
       "      <td>1</td>\n",
       "      <td>14.110847</td>\n",
       "      <td>80.5833</td>\n",
       "      <td>10.749882</td>\n",
       "      <td>985</td>\n",
       "      <td>1</td>\n",
       "      <td>0</td>\n",
       "      <td>0</td>\n",
       "      <td>...</td>\n",
       "      <td>0</td>\n",
       "      <td>0</td>\n",
       "      <td>1</td>\n",
       "      <td>0</td>\n",
       "      <td>0</td>\n",
       "      <td>0</td>\n",
       "      <td>0</td>\n",
       "      <td>0</td>\n",
       "      <td>1</td>\n",
       "      <td>0</td>\n",
       "    </tr>\n",
       "    <tr>\n",
       "      <th>1</th>\n",
       "      <td>0</td>\n",
       "      <td>0</td>\n",
       "      <td>1</td>\n",
       "      <td>14.902598</td>\n",
       "      <td>69.6087</td>\n",
       "      <td>16.652113</td>\n",
       "      <td>801</td>\n",
       "      <td>1</td>\n",
       "      <td>0</td>\n",
       "      <td>0</td>\n",
       "      <td>...</td>\n",
       "      <td>0</td>\n",
       "      <td>0</td>\n",
       "      <td>0</td>\n",
       "      <td>0</td>\n",
       "      <td>0</td>\n",
       "      <td>0</td>\n",
       "      <td>1</td>\n",
       "      <td>0</td>\n",
       "      <td>1</td>\n",
       "      <td>0</td>\n",
       "    </tr>\n",
       "    <tr>\n",
       "      <th>2</th>\n",
       "      <td>0</td>\n",
       "      <td>0</td>\n",
       "      <td>1</td>\n",
       "      <td>8.050924</td>\n",
       "      <td>43.7273</td>\n",
       "      <td>16.636703</td>\n",
       "      <td>1349</td>\n",
       "      <td>1</td>\n",
       "      <td>0</td>\n",
       "      <td>0</td>\n",
       "      <td>...</td>\n",
       "      <td>0</td>\n",
       "      <td>0</td>\n",
       "      <td>0</td>\n",
       "      <td>0</td>\n",
       "      <td>0</td>\n",
       "      <td>0</td>\n",
       "      <td>0</td>\n",
       "      <td>1</td>\n",
       "      <td>0</td>\n",
       "      <td>0</td>\n",
       "    </tr>\n",
       "    <tr>\n",
       "      <th>3</th>\n",
       "      <td>0</td>\n",
       "      <td>0</td>\n",
       "      <td>1</td>\n",
       "      <td>8.200000</td>\n",
       "      <td>59.0435</td>\n",
       "      <td>10.739832</td>\n",
       "      <td>1562</td>\n",
       "      <td>1</td>\n",
       "      <td>0</td>\n",
       "      <td>0</td>\n",
       "      <td>...</td>\n",
       "      <td>0</td>\n",
       "      <td>0</td>\n",
       "      <td>0</td>\n",
       "      <td>0</td>\n",
       "      <td>0</td>\n",
       "      <td>1</td>\n",
       "      <td>0</td>\n",
       "      <td>0</td>\n",
       "      <td>0</td>\n",
       "      <td>0</td>\n",
       "    </tr>\n",
       "    <tr>\n",
       "      <th>4</th>\n",
       "      <td>0</td>\n",
       "      <td>0</td>\n",
       "      <td>1</td>\n",
       "      <td>9.305237</td>\n",
       "      <td>43.6957</td>\n",
       "      <td>12.522300</td>\n",
       "      <td>1600</td>\n",
       "      <td>1</td>\n",
       "      <td>0</td>\n",
       "      <td>0</td>\n",
       "      <td>...</td>\n",
       "      <td>0</td>\n",
       "      <td>0</td>\n",
       "      <td>0</td>\n",
       "      <td>0</td>\n",
       "      <td>0</td>\n",
       "      <td>0</td>\n",
       "      <td>0</td>\n",
       "      <td>0</td>\n",
       "      <td>0</td>\n",
       "      <td>0</td>\n",
       "    </tr>\n",
       "  </tbody>\n",
       "</table>\n",
       "<p>5 rows × 29 columns</p>\n",
       "</div>"
      ],
      "text/plain": [
       "   yr  holiday  workingday       temp      hum  windspeed   cnt  \\\n",
       "0   0        0           1  14.110847  80.5833  10.749882   985   \n",
       "1   0        0           1  14.902598  69.6087  16.652113   801   \n",
       "2   0        0           1   8.050924  43.7273  16.636703  1349   \n",
       "3   0        0           1   8.200000  59.0435  10.739832  1562   \n",
       "4   0        0           1   9.305237  43.6957  12.522300  1600   \n",
       "\n",
       "   season_spring  season_summer  season_winter  ...  mnth_Oct  mnth_Sept  \\\n",
       "0              1              0              0  ...         0          0   \n",
       "1              1              0              0  ...         0          0   \n",
       "2              1              0              0  ...         0          0   \n",
       "3              1              0              0  ...         0          0   \n",
       "4              1              0              0  ...         0          0   \n",
       "\n",
       "   weekday_Monday  weekday_Saturday  weekday_Sunday  weekday_Thursday  \\\n",
       "0               1                 0               0                 0   \n",
       "1               0                 0               0                 0   \n",
       "2               0                 0               0                 0   \n",
       "3               0                 0               0                 1   \n",
       "4               0                 0               0                 0   \n",
       "\n",
       "   weekday_Tuesday  weekday_Wednesday  weathersit_weathersit 2  \\\n",
       "0                0                  0                        1   \n",
       "1                1                  0                        1   \n",
       "2                0                  1                        0   \n",
       "3                0                  0                        0   \n",
       "4                0                  0                        0   \n",
       "\n",
       "   weathersit_weathersit 3  \n",
       "0                        0  \n",
       "1                        0  \n",
       "2                        0  \n",
       "3                        0  \n",
       "4                        0  \n",
       "\n",
       "[5 rows x 29 columns]"
      ]
     },
     "execution_count": 1088,
     "metadata": {},
     "output_type": "execute_result"
    }
   ],
   "source": [
    "#merging the dummies with the original data\n",
    "df = pd.concat([df, dummies], axis= 1)\n",
    "#dropping the original variables upon which the dummies are created\n",
    "df.drop(['season', 'mnth', 'weekday', 'weathersit'], axis = 1, inplace= True)\n",
    "df.head()"
   ]
  },
  {
   "cell_type": "code",
   "execution_count": 1089,
   "metadata": {},
   "outputs": [
    {
     "name": "stdout",
     "output_type": "stream",
     "text": [
      "(510, 28)\n",
      "(510,)\n"
     ]
    }
   ],
   "source": [
    "#Train and test split: 70:30 split\n",
    "y = df.pop('cnt')\n",
    "X = df\n",
    "Xtrain, Xtest, ytrain, ytest = train_test_split(X, y, train_size= 0.7, random_state= 15)\n",
    "print(Xtrain.shape)\n",
    "print(ytrain.shape)"
   ]
  },
  {
   "cell_type": "code",
   "execution_count": 1090,
   "metadata": {},
   "outputs": [
    {
     "name": "stdout",
     "output_type": "stream",
     "text": [
      "(220, 28)\n",
      "(220,)\n"
     ]
    }
   ],
   "source": [
    "print(Xtest.shape)\n",
    "print(ytest.shape)"
   ]
  },
  {
   "cell_type": "markdown",
   "metadata": {},
   "source": [
    "### Model Building"
   ]
  },
  {
   "cell_type": "code",
   "execution_count": 1091,
   "metadata": {},
   "outputs": [],
   "source": [
    "def linearRegression(data):\n",
    "    #a column with ones are added to the dataset\n",
    "    X = sm.add_constant(data)\n",
    "    y = ytrain\n",
    "    \n",
    "    #Finding the VIF of the columns\n",
    "    VIF = pd.DataFrame()\n",
    "    VIF['features'] = data.columns\n",
    "    VIF['VIF'] = [variance_inflation_factor(data.values, x) for x in range(data.shape[1])]\n",
    "    VIF.VIF = round(VIF.VIF, 2)\n",
    "    VIF =  VIF.sort_values(by= 'VIF', ascending= False)\n",
    "    return sm.OLS(y, X).fit(), VIF"
   ]
  },
  {
   "cell_type": "code",
   "execution_count": 1092,
   "metadata": {},
   "outputs": [],
   "source": [
    "#this function returns the selected features from the entire feature set by returning the selected variable set\n",
    "#by giving the number of features as input\n",
    "def featureRanking(l):\n",
    "    lm = LinearRegression()\n",
    "    lm.fit(Xtrain, ytrain)\n",
    "\n",
    "    rfe = RFE(lm, l)\n",
    "    rfe = rfe.fit(Xtrain, ytrain)\n",
    "    rnks = pd.DataFrame({'columns': Xtrain.columns,\n",
    "                         'support': rfe.support_,\n",
    "                         'ranks': rfe.ranking_})\n",
    "    var = list(rnks[rnks.ranks == 1]['columns'].values)\n",
    "    return var"
   ]
  },
  {
   "cell_type": "code",
   "execution_count": 1093,
   "metadata": {},
   "outputs": [],
   "source": [
    "from sklearn.preprocessing import StandardScaler\n",
    "scaler = StandardScaler()"
   ]
  },
  {
   "cell_type": "code",
   "execution_count": 1094,
   "metadata": {},
   "outputs": [],
   "source": [
    "v = ['temp', 'hum', 'windspeed']\n",
    "Xtrain[v] = scaler.fit_transform(Xtrain[v]) #fits on train dataset and transforms it\n",
    "Xtest[v] = scaler.transform(Xtest[v]) #transforms the test data using the train dataset as reference"
   ]
  },
  {
   "cell_type": "code",
   "execution_count": 1095,
   "metadata": {},
   "outputs": [],
   "source": [
    "ytrain = scaler.fit_transform(ytrain.values.reshape(-1,1)) #scales the target\n",
    "ytest = scaler.transform(ytest.values.reshape(-1,1))"
   ]
  },
  {
   "cell_type": "code",
   "execution_count": 1096,
   "metadata": {},
   "outputs": [
    {
     "name": "stdout",
     "output_type": "stream",
     "text": [
      "                            OLS Regression Results                            \n",
      "==============================================================================\n",
      "Dep. Variable:                      y   R-squared:                       0.851\n",
      "Model:                            OLS   Adj. R-squared:                  0.846\n",
      "Method:                 Least Squares   F-statistic:                     175.8\n",
      "Date:                Mon, 25 Jan 2021   Prob (F-statistic):          7.35e-192\n",
      "Time:                        20:44:02   Log-Likelihood:                -238.37\n",
      "No. Observations:                 510   AIC:                             510.7\n",
      "Df Residuals:                     493   BIC:                             582.7\n",
      "Df Model:                          16                                         \n",
      "Covariance Type:            nonrobust                                         \n",
      "===========================================================================================\n",
      "                              coef    std err          t      P>|t|      [0.025      0.975]\n",
      "-------------------------------------------------------------------------------------------\n",
      "const                      -0.2978      0.045     -6.692      0.000      -0.385      -0.210\n",
      "yr                          1.0506      0.035     29.600      0.000       0.981       1.120\n",
      "holiday                    -0.2803      0.111     -2.524      0.012      -0.498      -0.062\n",
      "temp                        0.4487      0.034     13.353      0.000       0.383       0.515\n",
      "hum                        -0.1382      0.025     -5.612      0.000      -0.187      -0.090\n",
      "windspeed                  -0.1211      0.019     -6.387      0.000      -0.158      -0.084\n",
      "season_spring              -0.3920      0.078     -5.028      0.000      -0.545      -0.239\n",
      "season_winter               0.4206      0.065      6.446      0.000       0.292       0.549\n",
      "mnth_Dec                   -0.3622      0.080     -4.522      0.000      -0.520      -0.205\n",
      "mnth_Feb                   -0.2044      0.093     -2.196      0.029      -0.387      -0.021\n",
      "mnth_Jan                   -0.2963      0.089     -3.335      0.001      -0.471      -0.122\n",
      "mnth_July                  -0.1945      0.071     -2.741      0.006      -0.334      -0.055\n",
      "mnth_May                    0.1024      0.069      1.489      0.137      -0.033       0.237\n",
      "mnth_Nov                   -0.3226      0.084     -3.823      0.000      -0.488      -0.157\n",
      "mnth_Sept                   0.2750      0.072      3.842      0.000       0.134       0.416\n",
      "weathersit_weathersit 2    -0.1862      0.046     -4.018      0.000      -0.277      -0.095\n",
      "weathersit_weathersit 3    -0.9202      0.111     -8.264      0.000      -1.139      -0.701\n",
      "==============================================================================\n",
      "Omnibus:                       73.631   Durbin-Watson:                   2.097\n",
      "Prob(Omnibus):                  0.000   Jarque-Bera (JB):              212.808\n",
      "Skew:                          -0.690   Prob(JB):                     6.16e-47\n",
      "Kurtosis:                       5.848   Cond. No.                         9.55\n",
      "==============================================================================\n",
      "\n",
      "Notes:\n",
      "[1] Standard Errors assume that the covariance matrix of the errors is correctly specified.\n",
      "                   features   VIF\n",
      "5             season_spring  3.98\n",
      "2                      temp  2.96\n",
      "6             season_winter  2.47\n",
      "9                  mnth_Jan  2.40\n",
      "14  weathersit_weathersit 2  1.94\n",
      "8                  mnth_Feb  1.90\n",
      "12                 mnth_Nov  1.90\n",
      "0                        yr  1.80\n",
      "3                       hum  1.80\n",
      "7                  mnth_Dec  1.66\n",
      "10                mnth_July  1.52\n",
      "15  weathersit_weathersit 3  1.27\n",
      "4                 windspeed  1.19\n",
      "11                 mnth_May  1.18\n",
      "13                mnth_Sept  1.17\n",
      "1                   holiday  1.04\n"
     ]
    }
   ],
   "source": [
    "var = featureRanking(16)\n",
    "lm, VIF = linearRegression(Xtrain[var])\n",
    "print(lm.summary())\n",
    "print(VIF)"
   ]
  },
  {
   "cell_type": "markdown",
   "metadata": {},
   "source": [
    "The model above has 16 features selected, but the p-values of some of the variables are above 0.05, so we can reduce the no of features to 15 and check if it passes."
   ]
  },
  {
   "cell_type": "code",
   "execution_count": 1097,
   "metadata": {},
   "outputs": [
    {
     "name": "stdout",
     "output_type": "stream",
     "text": [
      "                            OLS Regression Results                            \n",
      "==============================================================================\n",
      "Dep. Variable:                      y   R-squared:                       0.850\n",
      "Model:                            OLS   Adj. R-squared:                  0.846\n",
      "Method:                 Least Squares   F-statistic:                     187.0\n",
      "Date:                Mon, 25 Jan 2021   Prob (F-statistic):          1.59e-192\n",
      "Time:                        20:44:02   Log-Likelihood:                -239.51\n",
      "No. Observations:                 510   AIC:                             511.0\n",
      "Df Residuals:                     494   BIC:                             578.8\n",
      "Df Model:                          15                                         \n",
      "Covariance Type:            nonrobust                                         \n",
      "===========================================================================================\n",
      "                              coef    std err          t      P>|t|      [0.025      0.975]\n",
      "-------------------------------------------------------------------------------------------\n",
      "const                      -0.2746      0.042     -6.580      0.000      -0.357      -0.193\n",
      "yr                          1.0540      0.035     29.720      0.000       0.984       1.124\n",
      "holiday                    -0.2715      0.111     -2.446      0.015      -0.490      -0.053\n",
      "temp                        0.4479      0.034     13.316      0.000       0.382       0.514\n",
      "hum                        -0.1326      0.024     -5.442      0.000      -0.180      -0.085\n",
      "windspeed                  -0.1219      0.019     -6.425      0.000      -0.159      -0.085\n",
      "season_spring              -0.4133      0.077     -5.387      0.000      -0.564      -0.263\n",
      "season_winter               0.3982      0.064      6.264      0.000       0.273       0.523\n",
      "mnth_Dec                   -0.3657      0.080     -4.563      0.000      -0.523      -0.208\n",
      "mnth_Feb                   -0.2051      0.093     -2.201      0.028      -0.388      -0.022\n",
      "mnth_Jan                   -0.2975      0.089     -3.345      0.001      -0.472      -0.123\n",
      "mnth_July                  -0.2172      0.069     -3.130      0.002      -0.354      -0.081\n",
      "mnth_Nov                   -0.3246      0.084     -3.843      0.000      -0.491      -0.159\n",
      "mnth_Sept                   0.2536      0.070      3.612      0.000       0.116       0.392\n",
      "weathersit_weathersit 2    -0.1889      0.046     -4.076      0.000      -0.280      -0.098\n",
      "weathersit_weathersit 3    -0.9335      0.111     -8.400      0.000      -1.152      -0.715\n",
      "==============================================================================\n",
      "Omnibus:                       72.243   Durbin-Watson:                   2.083\n",
      "Prob(Omnibus):                  0.000   Jarque-Bera (JB):              202.017\n",
      "Skew:                          -0.687   Prob(JB):                     1.36e-44\n",
      "Kurtosis:                       5.760   Cond. No.                         9.53\n",
      "==============================================================================\n",
      "\n",
      "Notes:\n",
      "[1] Standard Errors assume that the covariance matrix of the errors is correctly specified.\n",
      "                   features   VIF\n",
      "5             season_spring  3.98\n",
      "2                      temp  2.88\n",
      "6             season_winter  2.45\n",
      "9                  mnth_Jan  2.40\n",
      "8                  mnth_Feb  1.90\n",
      "11                 mnth_Nov  1.90\n",
      "13  weathersit_weathersit 2  1.90\n",
      "3                       hum  1.80\n",
      "0                        yr  1.74\n",
      "7                  mnth_Dec  1.66\n",
      "10                mnth_July  1.48\n",
      "14  weathersit_weathersit 3  1.27\n",
      "4                 windspeed  1.19\n",
      "12                mnth_Sept  1.16\n",
      "1                   holiday  1.03\n"
     ]
    }
   ],
   "source": [
    "var = featureRanking(15)\n",
    "lm, VIF = linearRegression(Xtrain[var])\n",
    "print(lm.summary())\n",
    "print(VIF)"
   ]
  },
  {
   "cell_type": "markdown",
   "metadata": {},
   "source": [
    "This model with 15 features has all variables with p-values below 0.05 and VIF lesser than 5 <br>\n",
    "the adjusted r-squared value is: 0.846"
   ]
  },
  {
   "cell_type": "markdown",
   "metadata": {},
   "source": [
    "### Model Assesment"
   ]
  },
  {
   "cell_type": "code",
   "execution_count": 1098,
   "metadata": {},
   "outputs": [],
   "source": [
    "Xtest2 = sm.add_constant(Xtest[var])\n",
    "ytest_pred = lm.predict(Xtest2).values.reshape(-1,1)"
   ]
  },
  {
   "cell_type": "code",
   "execution_count": 1099,
   "metadata": {},
   "outputs": [
    {
     "name": "stdout",
     "output_type": "stream",
     "text": [
      "The r-squared value of test data is:  0.7845401888954743\n",
      "The adjusted r-squared value of test data is:  0.7686975557260238\n"
     ]
    }
   ],
   "source": [
    "r2 = r2_score(ytest_pred, ytest)\n",
    "adjusted_r2 = 1 - (((1 - r2) * (len(ytest) - 1)) / (len(ytest) - len(var) - 1))\n",
    "print('The r-squared value of test data is: ', r2)\n",
    "print('The adjusted r-squared value of test data is: ', adjusted_r2)"
   ]
  },
  {
   "cell_type": "code",
   "execution_count": 1100,
   "metadata": {},
   "outputs": [
    {
     "name": "stdout",
     "output_type": "stream",
     "text": [
      "The root mean squared error of train data is:  0.3870090420481544\n"
     ]
    }
   ],
   "source": [
    "xt = sm.add_constant(Xtrain[var])\n",
    "ytrain_pred = lm.predict(xt)\n",
    "print('The root mean squared error of train data is: ', np.sqrt(mean_squared_error(ytrain, ytrain_pred)))"
   ]
  },
  {
   "cell_type": "code",
   "execution_count": 1101,
   "metadata": {},
   "outputs": [
    {
     "name": "stdout",
     "output_type": "stream",
     "text": [
      "The root mean squared error of train data is:  0.4504750497045497\n"
     ]
    }
   ],
   "source": [
    "print('The root mean squared error of train data is: ', np.sqrt(mean_squared_error(ytest, ytest_pred)))"
   ]
  },
  {
   "cell_type": "code",
   "execution_count": 1102,
   "metadata": {},
   "outputs": [
    {
     "data": {
      "text/plain": [
       "<AxesSubplot:>"
      ]
     },
     "execution_count": 1102,
     "metadata": {},
     "output_type": "execute_result"
    },
    {
     "data": {
      "image/png": "[encoded data removed]",
      "text/plain": [
       "<Figure size 720x360 with 1 Axes>"
      ]
     },
     "metadata": {
      "needs_background": "light"
     },
     "output_type": "display_data"
    }
   ],
   "source": [
    "plt.figure(figsize=(10,5))\n",
    "sns.lineplot(range(len(ytest)),ytest[:,0])\n",
    "sns.lineplot(range(len(ytest)),ypred[:,0])"
   ]
  },
  {
   "cell_type": "markdown",
   "metadata": {},
   "source": [
    "The line plot of predictive and train targets are mostly similar, which means that the model is good"
   ]
  },
  {
   "cell_type": "code",
   "execution_count": 1103,
   "metadata": {},
   "outputs": [
    {
     "data": {
      "text/plain": [
       "<AxesSubplot:ylabel='Density'>"
      ]
     },
     "execution_count": 1103,
     "metadata": {},
     "output_type": "execute_result"
    },
    {
     "data": {
      "image/png": "[encoded data removed]",
      "text/plain": [
       "<Figure size 432x288 with 1 Axes>"
      ]
     },
     "metadata": {
      "needs_background": "light"
     },
     "output_type": "display_data"
    }
   ],
   "source": [
    "res = ypred - ytest\n",
    "sns.distplot(res)"
   ]
  },
  {
   "cell_type": "markdown",
   "metadata": {},
   "source": [
    "The residuals are normal distributed with zero in center"
   ]
  },
  {
   "cell_type": "markdown",
   "metadata": {},
   "source": [
    "### Final Model"
   ]
  },
  {
   "cell_type": "code",
   "execution_count": 1104,
   "metadata": {},
   "outputs": [
    {
     "data": {
      "text/plain": [
       "const                     -0.274614\n",
       "yr                         1.053991\n",
       "holiday                   -0.271486\n",
       "temp                       0.447942\n",
       "hum                       -0.132575\n",
       "windspeed                 -0.121921\n",
       "season_spring             -0.413348\n",
       "season_winter              0.398234\n",
       "mnth_Dec                  -0.365748\n",
       "mnth_Feb                  -0.205125\n",
       "mnth_Jan                  -0.297539\n",
       "mnth_July                 -0.217237\n",
       "mnth_Nov                  -0.324598\n",
       "mnth_Sept                  0.253585\n",
       "weathersit_weathersit 2   -0.188920\n",
       "weathersit_weathersit 3   -0.933530\n",
       "dtype: float64"
      ]
     },
     "execution_count": 1104,
     "metadata": {},
     "output_type": "execute_result"
    }
   ],
   "source": [
    "#model's co-efficients and intercept\n",
    "lm.params"
   ]
  },
  {
   "cell_type": "markdown",
   "metadata": {},
   "source": [
    "The final model has the straight line formula as:<br><br>\n",
    "\\begin{equation*}\n",
    "Y = -0.274 + yr * 1.053 + holiday * -0.2714 + temp * 0.447 + hum * -0.13 + windspeed * -.121 + spring * 0.413 + winter * 0.398 + december * -0.365+ feb * -0.205 + jan * -0.297 + july * -0.217 + nov * -0.324 + sept * 0.253 + weathersit2 * -0.188 + weathersit3 * -0.933\n",
    "\\end{equation*}"
   ]
  },
  {
   "cell_type": "markdown",
   "metadata": {},
   "source": [
    "Important Variables:\n",
    "- temperature\n",
    "- holiday\n",
    "- Months between April and June\n",
    "- Weathersit 1 (Clear, Few clouds, Partly cloudy)"
   ]
  },
  {
   "cell_type": "markdown",
   "metadata": {},
   "source": [
    "The main driver variables:\n",
    "- **temp**: warmer the temperature more people rent bikes\n",
    "- **Weathersit 1 (Clear, Few clouds, Partly cloudy)**: more bikes are rented when the skies are clear with fewer clouds\n",
    "- **Holiday**: During holidays there is less bike rentals because we can guess that people often rent bikes to travel to their workplace and some people doesnt want to spend biking during holidays"
   ]
  },
  {
   "cell_type": "markdown",
   "metadata": {},
   "source": [
    "Final Insights:\n",
    "- There are high rentals during summer season\n",
    "- People generally prefer clear skies for rentals\n",
    "- There is high demand in 2019 than 2018\n",
    "- If the temperature is warmer we can expect more rentals"
   ]
  },
  {
   "cell_type": "code",
   "execution_count": null,
   "metadata": {},
   "outputs": [],
   "source": []
  }
 ],
 "metadata": {
  "kernelspec": {
   "display_name": "Python 3",
   "language": "python",
   "name": "python3"
  },
  "language_info": {
   "codemirror_mode": {
    "name": "ipython",
    "version": 3
   },
   "file_extension": ".py",
   "mimetype": "text/x-python",
   "name": "python",
   "nbconvert_exporter": "python",
   "pygments_lexer": "ipython3",
   "version": "3.8.5"
  },
  "varInspector": {
   "cols": {
    "lenName": 16,
    "lenType": 16,
    "lenVar": 40
   },
   "kernels_config": {
    "python": {
     "delete_cmd_postfix": "",
     "delete_cmd_prefix": "del ",
     "library": "var_list.py",
     "varRefreshCmd": "print(var_dic_list())"
    },
    "r": {
     "delete_cmd_postfix": ") ",
     "delete_cmd_prefix": "rm(",
     "library": "var_list.r",
     "varRefreshCmd": "cat(var_dic_list()) "
    }
   },
   "position": {
    "height": "185.848px",
    "left": "1111.86px",
    "right": "20px",
    "top": "120px",
    "width": "331px"
   },
   "types_to_exclude": [
    "module",
    "function",
    "builtin_function_or_method",
    "instance",
    "_Feature"
   ],
   "window_display": false
  }
 },
 "nbformat": 4,
 "nbformat_minor": 4
}
